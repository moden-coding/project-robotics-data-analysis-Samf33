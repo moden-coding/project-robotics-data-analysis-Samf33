{
 "cells": [
  {
   "cell_type": "markdown",
   "metadata": {
    "id": "nKdphsd-PE8H"
   },
   "source": [
    "#Robotics Data Analyst\n",
    "In this activity, you are taking on the role of a Data Analyst for a Robotics Tournament. Your job is to clean up messy information about teams, matches, scores, and workshops so the event can run smoothly. You’ll decide which Python data structures (lists, dictionaries, tuples, and sets) are the best tools for different tasks—like sorting schedules, adding up scores, or checking for mistakes. Just like a real analyst, you’ll need to think carefully about how to organize data so it’s accurate, efficient, and easy to use.<br><br>\n",
    "\n",
    "Your audience for this is someone who doesn't know about code, but wants to see how you got your results. They don't just want to see you write a paper with no supporting code to back it up, but they also don't want to see a big block of code with no support explanation. <br><br>\n",
    "\n",
    "A key part of your job is to do the analysis, but also to explain your work. The final report should be a very intentional mix of code with text. **You should not have giant blocks of code**. For example, a function should be its own code block. Every 4-6 lines should include some explanation of what you are doing. That's just a rough estimate though. Think about your code in terms of discreet chunks. Each chunk should be a code block."
   ]
  },
  {
   "cell_type": "code",
   "execution_count": 1,
   "metadata": {
    "id": "6B5UsY3QFZSP"
   },
   "outputs": [],
   "source": [
    "# teams.csv-like rows you parsed already:\n",
    "raw_teams = [\n",
    "    [\"HHS-1729\", \"Hudson HS\", \"Ada\", \"ada@hudsonhs.org\", \"Lin\", \"lin@hudsonhs.org\"],\n",
    "    [\"FRM-101\",  \"Framingham HS\", \"Sam\", \"sam@frhs.org\", \"Tess\", \"tess@frhs.org\"],\n",
    "    [\"MRB-88\",   \"Marlborough HS\", \"Kai\", \"kai@mrbhs.org\", \"Ada\", \"ada@hudsonhs.org\"], \n",
    "    [\"WBY-77\",   \"Westborough HS\", \"Ira\", \"ira@wby.org\", \"Mo\", \"mo@wby.org\"],\n",
    "]\n",
    "\n",
    "# provisional match schedule (field, start_time, teamA, teamB)\n",
    "# Times are ISO strings in the format YYYY-MM-DDTHH:MM\n",
    "randomized_matches = [\n",
    "    ('Field-2', '2025-09-27T12:30', 'FRM-101', 'WBY-77'),\n",
    "    ('Field-1', '2025-09-27T16:15', 'FRM-101', 'HHS-1729'),\n",
    "    ('Field-2', '2025-09-27T11:45', 'WBY-77', 'FRM-101'),\n",
    "    ('Field-1', '2025-09-27T11:00', 'HHS-1729', 'MRB-88'),\n",
    "    ('Field-2', '2025-09-27T17:00', 'FRM-101', 'MRB-88'),\n",
    "    ('Field-1', '2025-09-27T15:30', 'WBY-77', 'HHS-1729'),\n",
    "    ('Field-1', '2025-09-27T17:45', 'MRB-88', 'WBY-77'),\n",
    "    ('Field-2', '2025-09-27T17:45', 'HHS-1729', 'FRM-101'),\n",
    "    ('Field-2', '2025-09-27T18:30', 'MRB-88', 'HHS-1729'),\n",
    "    ('Field-1', '2025-09-27T13:15', 'HHS-1729', 'WBY-77'),\n",
    "    ('Field-2', '2025-09-27T10:15', 'MRB-88', 'WBY-77'),\n",
    "    ('Field-2', '2025-09-27T15:30', 'MRB-88', 'FRM-101'),\n",
    "    ('Field-2', '2025-09-27T14:00', 'WBY-77', 'MRB-88'),\n",
    "    ('Field-1', '2025-09-27T17:00', 'HHS-1729', 'WBY-77'),\n",
    "    ('Field-1', '2025-09-27T14:45', 'HHS-1729', 'MRB-88'),\n",
    "    ('Field-2', '2025-09-27T16:15', 'WBY-77', 'MRB-88'),\n",
    "    ('Field-1', '2025-09-27T09:30', 'WBY-77', 'HHS-1729'),\n",
    "    ('Field-1', '2025-09-27T12:30', 'MRB-88', 'HHS-1729'),\n",
    "    ('Field-2', '2025-09-27T14:45', 'FRM-101', 'WBY-77'),\n",
    "    ('Field-2', '2025-09-27T13:15', 'MRB-88', 'FRM-101'),\n",
    "    ('Field-2', '2025-09-27T09:30', 'MRB-88', 'FRM-101'),\n",
    "    ('Field-1', '2025-09-27T19:15', 'HHS-1729', 'FRM-101'),\n",
    "    ('Field-1', '2025-09-27T14:00', 'FRM-101', 'HHS-1729'),\n",
    "    ('Field-1', '2025-09-27T10:15', 'HHS-1729', 'FRM-101'),\n",
    "    ('Field-1', '2025-09-27T18:30', 'WBY-77', 'FRM-101'),\n",
    "]\n",
    "\n",
    "# reported scores (field, time, team_id, points)\n",
    "raw_scores = [\n",
    "    (\"Field-1\", \"2025-09-27T09:30\", \"WBY-77\", 22, \"HHS-1729\", 18),\n",
    "    (\"Field-2\", \"2025-09-27T09:30\", \"MRB-88\", 25, \"FRM-101\", 25),\n",
    "    (\"Field-1\", \"2025-09-27T10:15\", \"HHS-1729\", 17, \"FRM-101\", 31),\n",
    "    (\"Field-2\", \"2025-09-27T10:15\", \"MRB-88\", 27, \"WBY-77\", 23),\n",
    "    (\"Field-1\", \"2025-09-27T11:00\", \"HHS-1729\", 22, \"MRB-88\", 19),\n",
    "\n",
    "    (\"Field-2\", \"2025-09-27T11:45\", \"WBY-77\", 26, \"FRM-101\", 24),\n",
    "    (\"Field-1\", \"2025-09-27T12:30\", \"MRB-88\", 28, \"HHS-1729\", 30),\n",
    "    (\"Field-2\", \"2025-09-27T12:30\", \"FRM-101\", 24, \"WBY-77\", 22),\n",
    "    (\"Field-1\", \"2025-09-27T13:15\", \"HHS-1729\", 19, \"WBY-77\", 23),\n",
    "    (\"Field-2\", \"2025-09-27T13:15\", \"MRB-88\", 32, \"FRM-101\", 29),\n",
    "\n",
    "    (\"Field-1\", \"2025-09-27T14:00\", \"FRM-101\", 27, \"HHS-1729\", 25),\n",
    "    (\"Field-2\", \"2025-09-27T14:00\", \"WBY-77\", 20, \"MRB-88\", 22),\n",
    "    (\"Field-1\", \"2025-09-27T14:45\", \"HHS-1729\", 24, \"MRB-88\", 26),\n",
    "    (\"Field-2\", \"2025-09-27T14:45\", \"FRM-101\", 18, \"WBY-77\", 17),\n",
    "    (\"Field-1\", \"2025-09-27T15:30\", \"WBY-77\", 28, \"HHS-1729\", 31),\n",
    "\n",
    "    (\"Field-2\", \"2025-09-27T15:30\", \"MRB-88\", 24, \"FRM-101\", 26),\n",
    "    (\"Field-1\", \"2025-09-27T16:15\", \"FRM-101\", 33, \"HHS-1729\", 20),\n",
    "    (\"Field-2\", \"2025-09-27T16:15\", \"WBY-77\", 23, \"MRB-88\", 27),\n",
    "    (\"Field-1\", \"2025-09-27T17:00\", \"HHS-1729\", 29, \"WBY-77\", 27),\n",
    "    (\"Field-2\", \"2025-09-27T17:00\", \"FRM-101\", 22, \"MRB-88\", 24),\n",
    "\n",
    "    (\"Field-1\", \"2025-09-27T17:45\", \"MRB-88\", 21, \"WBY-77\", 19),\n",
    "    (\"Field-2\", \"2025-09-27T17:45\", \"HHS-1729\", 20, \"FRM-101\", 18),\n",
    "    (\"Field-1\", \"2025-09-27T18:30\", \"WBY-77\", 28, \"FRM-101\", 26),\n",
    "    (\"Field-2\", \"2025-09-27T18:30\", \"MRB-88\", 25, \"HHS-1729\", 21),\n",
    "    (\"Field-1\", \"2025-09-27T19:15\", \"HHS-1729\", 26, \"FRM-101\", 24),\n",
    "]\n",
    "\n",
    "# workshop signups: participant_email, workshop_code\n",
    "raw_workshops = [\n",
    "    (\"ada@hudsonhs.org\", \"VIS\"), \n",
    "    (\"lin@hudsonhs.org\", \"PID\"),\n",
    "    (\"sam@frhs.org\", \"PID\"), \n",
    "    (\"tess@frhs.org\", \"PID\"),\n",
    "    (\"kai@mrbhs.org\", \"PID\"), \n",
    "    (\"ira@wby.org\", \"VIS\"), \n",
    "    (\"mo@wby.org\", \"VIS\"),\n",
    "    (\"ada@hudsonhs.org\", \"PID\"),  \n",
    "]\n",
    "\n",
    "# workshop capacities (could also be given as flat CSV rows later)\n",
    "workshop_caps = [\n",
    "    (\"PID\", \"4\"),\n",
    "    (\"VIS\", \"3\")\n",
    "]"
   ]
  },
  {
   "cell_type": "markdown",
   "metadata": {
    "id": "x8CLGqoFFg1u"
   },
   "source": [
    "Whenever you are getting to work with data, you should first explore it. We will get more tools for doing this as we learn more, but we can still investigate this. In the space below, you have a couple different coding fields to work with. In that space, I want you to show evidence that you have explored these lists. That can be:\n",
    "\n",
    "\n",
    "*   Looping through the lists printing items\n",
    "*   Using type() to confirm data types\n",
    "*   Using other tools such as len(), min(), max() to find key data points\n",
    "*   Looking at individual dictionaries to confirm that you know how they work. <br>\n",
    "You can add additional entries by hitting the 'b' key. After each code block, insert a short written block to explain what you found.\n",
    "\n",
    "\n",
    "\n",
    "\n"
   ]
  },
  {
   "cell_type": "code",
   "execution_count": 16,
   "metadata": {
    "id": "u_xTH1S9G6jN"
   },
   "outputs": [
    {
     "name": "stdout",
     "output_type": "stream",
     "text": [
      "<class 'list'>\n",
      "25\n",
      "<class 'list'>\n"
     ]
    }
   ],
   "source": [
    "print(type(raw_teams))\n",
    "print(len(randomized_matches))\n",
    "print(type(randomized_matches))"
   ]
  },
  {
   "cell_type": "raw",
   "metadata": {},
   "source": [
    "I just looked through a bit of the data, most of the raw data is comprised of lists or tuples. I also checked how many matches with len(randomized_matches) which was 25."
   ]
  },
  {
   "cell_type": "markdown",
   "metadata": {
    "id": "ghDQjwkrHEgE"
   },
   "source": [
    "#Part A — Choose representations (immutability vs. mutability)\n",
    "\n",
    "1. Participants/teams: Convert each raw_teams row into a record you won’t accidentally mutate (e.g., for stable IDs).\n",
    "*   The data structure should have information about each school: team number, high school name, grouped mentor 1 information, grouped mentor 2 information\n",
    "*   **Deliverable**: a collection of team records; **justify** your data structure choice."
   ]
  },
  {
   "cell_type": "code",
   "execution_count": 2,
   "metadata": {
    "id": "OVHDz11xIL1-"
   },
   "outputs": [
    {
     "data": {
      "text/plain": [
       "[('HHS-1729',\n",
       "  'Hudson HS',\n",
       "  ('Ada', 'ada@hudsonhs.org'),\n",
       "  ('Lin', 'lin@hudsonhs.org')),\n",
       " ('FRM-101',\n",
       "  'Framingham HS',\n",
       "  ('Sam', 'sam@frhs.org'),\n",
       "  ('Tess', 'tess@frhs.org')),\n",
       " ('MRB-88',\n",
       "  'Marlborough HS',\n",
       "  ('Kai', 'kai@mrbhs.org'),\n",
       "  ('Ada', 'ada@hudsonhs.org')),\n",
       " ('WBY-77', 'Westborough HS', ('Ira', 'ira@wby.org'), ('Mo', 'mo@wby.org'))]"
      ]
     },
     "execution_count": 2,
     "metadata": {},
     "output_type": "execute_result"
    }
   ],
   "source": [
    "#Complete #1 here\n",
    "new_raw_teams = []\n",
    "for lop in (raw_teams):\n",
    "    new_raw_teams.append((lop[0], lop[1], (lop[2], lop[3]), (lop[4], lop[5])))\n",
    "new_raw_teams"
   ]
  },
  {
   "cell_type": "markdown",
   "metadata": {
    "id": "KEXLowQCIPaA"
   },
   "source": [
    "Tuples make sense for storing the teams in a more organized list because the teams never change. The key concept that relates to tuples is that they cannot be modified, and since the teams never change they should not be modified either, making tuples the most logical choice here."
   ]
  },
  {
   "cell_type": "markdown",
   "metadata": {},
   "source": [
    "\n",
    "2. Build a fast lookup from team code → school/mentors.\n",
    "*   **Deliverable**: a dictionary mapping `team_id` to a collection of information about that team. Information included should: which school is represented by the id and the team's mentors. We'll deal with points and records later"
   ]
  },
  {
   "cell_type": "code",
   "execution_count": 3,
   "metadata": {
    "id": "QM9OgkLVIMW3"
   },
   "outputs": [
    {
     "data": {
      "text/plain": [
       "{'HHS-1729': {'school': 'Hudson HS',\n",
       "  'mentor_one': 'Ada',\n",
       "  'mentor_two': 'Lin',\n",
       "  'mentor_one_email': 'ada@hudsonhs.org',\n",
       "  'mentor_two_email': 'lin@hudsonhs.org'},\n",
       " 'FRM-101': {'school': 'Framingham HS',\n",
       "  'mentor_one': 'Sam',\n",
       "  'mentor_two': 'Tess',\n",
       "  'mentor_one_email': 'sam@frhs.org',\n",
       "  'mentor_two_email': 'tess@frhs.org'},\n",
       " 'MRB-88': {'school': 'Marlborough HS',\n",
       "  'mentor_one': 'Kai',\n",
       "  'mentor_two': 'Ada',\n",
       "  'mentor_one_email': 'kai@mrbhs.org',\n",
       "  'mentor_two_email': 'ada@hudsonhs.org'},\n",
       " 'WBY-77': {'school': 'Westborough HS',\n",
       "  'mentor_one': 'Ira',\n",
       "  'mentor_two': 'Mo',\n",
       "  'mentor_one_email': 'ira@wby.org',\n",
       "  'mentor_two_email': 'mo@wby.org'}}"
      ]
     },
     "execution_count": 3,
     "metadata": {},
     "output_type": "execute_result"
    }
   ],
   "source": [
    "#Complete #2 here\n",
    "teams_dict = {}\n",
    "for info in raw_teams:\n",
    "    team_id, school, mentor_one, mentor_one_email, mentor_two, mentor_two_email = info\n",
    "    teams_dict[team_id] = {\"school\":school, \"mentor_one\":mentor_one, \"mentor_two\":mentor_two,\"mentor_one_email\":mentor_one_email, \"mentor_two_email\":mentor_two_email}\n",
    "teams_dict['HHS-1729'][\"school\"]\n",
    "teams_dict"
   ]
  },
  {
   "cell_type": "markdown",
   "metadata": {
    "id": "6tZvRBazIUU8"
   },
   "source": [
    "I used a dictionary of dictionaries to store my teams in an organized fashion because it allows for each team to be accessed by name and then within that, you can access any specific information by the key that corresponds to that information rather than by a index (like you would have in a list or a tuple). This will help me write neater code later on because I can set helper variables to the various values in the dictionary. \n",
    "(Making the dictionary itself is also pretty simple, I just iterated through the raw teams and stored the info as variables then added the team as a key with a dictionary of it's info as the value)."
   ]
  },
  {
   "cell_type": "markdown",
   "metadata": {
    "id": "MtDKvyYoIaTq"
   },
   "source": [
    "#Part B - Sort a mixed schedule\n",
    "\n",
    "Clean and sort `raw_matches` by **start_time** then **field** (so ties on time are broken alphabetically by field). We'll talk a bit more about how to do that below.\n",
    "\n",
    "*   **Deliverable**: a list of normalized match tuples"
   ]
  },
  {
   "cell_type": "markdown",
   "metadata": {},
   "source": [
    "We should see something like below afte we are done:  \n",
    "\n",
    "(\"Field-1\", \"2025-09-27T09:30\", \"HHS-1729\", \"WBY-77\"),\n",
    "(\"Field-2\", \"2025-09-27T09:30\", \"FRM-101\", \"MRB-88\"),\n",
    "(\"Field-1\", \"2025-09-27T10:15\", \"FRM-101\", \"HHS-1729\"),\n",
    "(\"Field-2\", \"2025-09-27T10:15\", \"MRB-88\", \"WBY-77\"),\n",
    "(\"Field-1\", \"2025-09-27T11:00\", \"MRB-88\", \"HHS-1729\")"
   ]
  },
  {
   "cell_type": "markdown",
   "metadata": {
    "id": "zIl51MpFKSyq"
   },
   "source": [
    "In this task, we need to do multi-sorting. We might find that two matches have the same start time, which could cause a jam in our sorting. We need to break that jam by sorting using two factors. We can do that by creating an extra function to help us:\n"
   ]
  },
  {
   "cell_type": "code",
   "execution_count": 4,
   "metadata": {
    "id": "rp839VzxK4lj"
   },
   "outputs": [],
   "source": [
    "def sorting_key(match):\n",
    "  #Return a tuple where the first element is the time of the match and the second is the field number\n",
    "    field = match[0]\n",
    "    time = match[1]\n",
    "    return (time, field)\n",
    "    pass"
   ]
  },
  {
   "cell_type": "markdown",
   "metadata": {
    "id": "eByhciXyLtxQ"
   },
   "source": [
    "If done correctly, we should see `(\"2025-09-27T09:30\", \"Field-2\")`as the output from the function below:"
   ]
  },
  {
   "cell_type": "code",
   "execution_count": 5,
   "metadata": {
    "id": "1BQHxzf1L7YS"
   },
   "outputs": [
    {
     "name": "stdout",
     "output_type": "stream",
     "text": [
      "('2025-09-27T12:30', 'Field-2')\n"
     ]
    }
   ],
   "source": [
    "print(sorting_key(randomized_matches[0]))"
   ]
  },
  {
   "cell_type": "markdown",
   "metadata": {
    "id": "zxb9lqAkLb-i"
   },
   "source": [
    "We can then apply this function to our sorting method:"
   ]
  },
  {
   "cell_type": "code",
   "execution_count": 6,
   "metadata": {
    "id": "KJKpFgy_Lg9W"
   },
   "outputs": [
    {
     "name": "stdout",
     "output_type": "stream",
     "text": [
      "[('Field-1', '2025-09-27T09:30', 'WBY-77', 'HHS-1729'), ('Field-2', '2025-09-27T09:30', 'MRB-88', 'FRM-101'), ('Field-1', '2025-09-27T10:15', 'HHS-1729', 'FRM-101'), ('Field-2', '2025-09-27T10:15', 'MRB-88', 'WBY-77'), ('Field-1', '2025-09-27T11:00', 'HHS-1729', 'MRB-88'), ('Field-2', '2025-09-27T11:45', 'WBY-77', 'FRM-101'), ('Field-1', '2025-09-27T12:30', 'MRB-88', 'HHS-1729'), ('Field-2', '2025-09-27T12:30', 'FRM-101', 'WBY-77'), ('Field-1', '2025-09-27T13:15', 'HHS-1729', 'WBY-77'), ('Field-2', '2025-09-27T13:15', 'MRB-88', 'FRM-101'), ('Field-1', '2025-09-27T14:00', 'FRM-101', 'HHS-1729'), ('Field-2', '2025-09-27T14:00', 'WBY-77', 'MRB-88'), ('Field-1', '2025-09-27T14:45', 'HHS-1729', 'MRB-88'), ('Field-2', '2025-09-27T14:45', 'FRM-101', 'WBY-77'), ('Field-1', '2025-09-27T15:30', 'WBY-77', 'HHS-1729'), ('Field-2', '2025-09-27T15:30', 'MRB-88', 'FRM-101'), ('Field-1', '2025-09-27T16:15', 'FRM-101', 'HHS-1729'), ('Field-2', '2025-09-27T16:15', 'WBY-77', 'MRB-88'), ('Field-1', '2025-09-27T17:00', 'HHS-1729', 'WBY-77'), ('Field-2', '2025-09-27T17:00', 'FRM-101', 'MRB-88'), ('Field-1', '2025-09-27T17:45', 'MRB-88', 'WBY-77'), ('Field-2', '2025-09-27T17:45', 'HHS-1729', 'FRM-101'), ('Field-1', '2025-09-27T18:30', 'WBY-77', 'FRM-101'), ('Field-2', '2025-09-27T18:30', 'MRB-88', 'HHS-1729'), ('Field-1', '2025-09-27T19:15', 'HHS-1729', 'FRM-101')]\n"
     ]
    }
   ],
   "source": [
    "sorted_matches = sorted(randomized_matches, key=sorting_key) #This will do conventional, ascending sorts but will first look at time of\n",
    "print(sorted_matches)"
   ]
  },
  {
   "cell_type": "markdown",
   "metadata": {},
   "source": [
    "A sorting key was useful for this because it allows us to just plug in our matches along with our sorting key and get the ordered matches. It also keeps the code super readable because the key itself is very simplistic code (just returns the data in a certain order) in contrast to something like a lambda function which can look pretty confusing."
   ]
  },
  {
   "cell_type": "markdown",
   "metadata": {
    "id": "V62qMiGnKxZJ"
   },
   "source": [
    "#Part C — Detect cross-team mentor conflicts (duplicate emails)\n",
    "\n",
    "Using the team data, find any emails that appear on multiple teams.\n",
    "*   **Deliverable**: produce a report like \"xxxx@xxxxx.org\": {\"xxx-####\",\"xxx-####\"}}. Where we can see that xxxx@xxxxx.org was listed for two different teams\n",
    "\n",
    "Complete this using code that could be applied to a different data set, for example, one with more names. \n"
   ]
  },
  {
   "cell_type": "code",
   "execution_count": 7,
   "metadata": {
    "id": "tFeSvq2zNCFt"
   },
   "outputs": [
    {
     "data": {
      "text/plain": [
       "{'ada@hudsonhs.org': ['HHS-1729', 'MRB-88']}"
      ]
     },
     "execution_count": 7,
     "metadata": {},
     "output_type": "execute_result"
    }
   ],
   "source": [
    "dupe_check = {}\n",
    "dupes = {}\n",
    "for num, teams in teams_dict.items():\n",
    "    current_mentor_one = teams[\"mentor_one\"]\n",
    "    current_mentor_two = teams[\"mentor_two\"]\n",
    "    current_mentor_one_email = teams[\"mentor_one_email\"]\n",
    "    current_mentor_two_email = teams[\"mentor_two_email\"]\n",
    "    if current_mentor_one in dupe_check:\n",
    "        dupe_check[current_mentor_one].append(num)\n",
    "        dupes[current_mentor_one_email] = dupe_check[current_mentor_one]\n",
    "    else:         \n",
    "        dupe_check[current_mentor_one] = [num] \n",
    "    if current_mentor_two in dupe_check:\n",
    "        dupe_check[current_mentor_two].append(num)\n",
    "        dupes[current_mentor_two_email] = dupe_check[current_mentor_two]\n",
    "    else:\n",
    "        dupe_check[current_mentor_two] = [num]\n",
    "dupes\n",
    "\n",
    "    "
   ]
  },
  {
   "cell_type": "markdown",
   "metadata": {
    "id": "d6kc1jWfNCec"
   },
   "source": [
    "To find out which mentors were on multiple teams, I created two dictionaries: one that would hold all the mentors that are listed for each team (dupe_check), and one that held the teams that appeared more than once (dupes). I iterated through all of the teams in the teams dictionary I made earlier, keeping track of each team id and all of the data stored for that team. I then stored each team's current mentors and their emails. I checked if each mentor was already in dupe_check, if they were, I appended dupe_check so that the code could keep track of every team they were on (even if they were on more than two), if they were not, I added them to dupe_check to keep track of them and the team number they were listed under. If either mentor was found on dupe_check I also added them to a dictionary of dupes where their email was the key, and their value was a list of the teams they were on. Lastly, I printed the dupes list once I was done iterating through the teams to find out that Ada was the only mentor on more than one team, being on Hudson HS and Malborough HS."
   ]
  },
  {
   "cell_type": "markdown",
   "metadata": {
    "id": "FGh8WsJaNCqS"
   },
   "source": [
    "#Part D — Build standings with real aggregation tools\n",
    "\n",
    "Compute **total points by team** across all **raw_scores**, then list the top 3. Handle ties by breaking ties with **team_id** alphabetically.\n",
    "\n",
    "\n",
    "\n",
    "*   **Deliverable**: an ordered list like [(\"FRM-101\", 56), (\"MRB-88\", 71), ...]."
   ]
  },
  {
   "cell_type": "markdown",
   "metadata": {},
   "source": [
    "A tool that can be useful for us is:"
   ]
  },
  {
   "cell_type": "code",
   "execution_count": 8,
   "metadata": {},
   "outputs": [
    {
     "name": "stdout",
     "output_type": "stream",
     "text": [
      "The match was played on Field-1 at 2025-09-27T09:30 WBY-77 had 22 and HHS-1729 had 18\n",
      "The match was played on Field-2 at 2025-09-27T09:30 MRB-88 had 25 and FRM-101 had 25\n",
      "The match was played on Field-1 at 2025-09-27T10:15 HHS-1729 had 17 and FRM-101 had 31\n",
      "The match was played on Field-2 at 2025-09-27T10:15 MRB-88 had 27 and WBY-77 had 23\n",
      "The match was played on Field-1 at 2025-09-27T11:00 HHS-1729 had 22 and MRB-88 had 19\n",
      "The match was played on Field-2 at 2025-09-27T11:45 WBY-77 had 26 and FRM-101 had 24\n",
      "The match was played on Field-1 at 2025-09-27T12:30 MRB-88 had 28 and HHS-1729 had 30\n",
      "The match was played on Field-2 at 2025-09-27T12:30 FRM-101 had 24 and WBY-77 had 22\n",
      "The match was played on Field-1 at 2025-09-27T13:15 HHS-1729 had 19 and WBY-77 had 23\n",
      "The match was played on Field-2 at 2025-09-27T13:15 MRB-88 had 32 and FRM-101 had 29\n",
      "The match was played on Field-1 at 2025-09-27T14:00 FRM-101 had 27 and HHS-1729 had 25\n",
      "The match was played on Field-2 at 2025-09-27T14:00 WBY-77 had 20 and MRB-88 had 22\n",
      "The match was played on Field-1 at 2025-09-27T14:45 HHS-1729 had 24 and MRB-88 had 26\n",
      "The match was played on Field-2 at 2025-09-27T14:45 FRM-101 had 18 and WBY-77 had 17\n",
      "The match was played on Field-1 at 2025-09-27T15:30 WBY-77 had 28 and HHS-1729 had 31\n",
      "The match was played on Field-2 at 2025-09-27T15:30 MRB-88 had 24 and FRM-101 had 26\n",
      "The match was played on Field-1 at 2025-09-27T16:15 FRM-101 had 33 and HHS-1729 had 20\n",
      "The match was played on Field-2 at 2025-09-27T16:15 WBY-77 had 23 and MRB-88 had 27\n",
      "The match was played on Field-1 at 2025-09-27T17:00 HHS-1729 had 29 and WBY-77 had 27\n",
      "The match was played on Field-2 at 2025-09-27T17:00 FRM-101 had 22 and MRB-88 had 24\n",
      "The match was played on Field-1 at 2025-09-27T17:45 MRB-88 had 21 and WBY-77 had 19\n",
      "The match was played on Field-2 at 2025-09-27T17:45 HHS-1729 had 20 and FRM-101 had 18\n",
      "The match was played on Field-1 at 2025-09-27T18:30 WBY-77 had 28 and FRM-101 had 26\n",
      "The match was played on Field-2 at 2025-09-27T18:30 MRB-88 had 25 and HHS-1729 had 21\n",
      "The match was played on Field-1 at 2025-09-27T19:15 HHS-1729 had 26 and FRM-101 had 24\n"
     ]
    }
   ],
   "source": [
    "for match in raw_scores:\n",
    "    field, time, teamA, ptsA, teamB, ptsB = match\n",
    "    \n",
    "    print(f\"The match was played on {field} at {time} {teamA} had {ptsA} and {teamB} had {ptsB}\")"
   ]
  },
  {
   "cell_type": "markdown",
   "metadata": {},
   "source": [
    "This will extract six variables from each match. In this case I just printed the contents, but there could be more valuable uses!"
   ]
  },
  {
   "cell_type": "markdown",
   "metadata": {},
   "source": [
    "Write your code in chunks with short explanations of what you are doing after each chunk."
   ]
  },
  {
   "cell_type": "code",
   "execution_count": 9,
   "metadata": {
    "id": "hnnHpes7NcRr"
   },
   "outputs": [
    {
     "data": {
      "text/plain": [
       "{'WBY-77': [4, 278],\n",
       " 'HHS-1729': [6, 302],\n",
       " 'MRB-88': [8, 300],\n",
       " 'FRM-101': [6, 327]}"
      ]
     },
     "execution_count": 9,
     "metadata": {},
     "output_type": "execute_result"
    }
   ],
   "source": [
    "wins_and_points = {}\n",
    "for match in raw_scores:\n",
    "    field, time, teamA, ptsA, teamB, ptsB = match\n",
    "    if teamA not in wins_and_points:\n",
    "        wins_and_points[teamA] = [0, 0]\n",
    "    if teamB not in wins_and_points:\n",
    "        wins_and_points[teamB] = [0, 0]\n",
    "    current_teamA_wins = wins_and_points[teamA][0]\n",
    "    current_teamA_pts = wins_and_points[teamA][1] + ptsA\n",
    "    current_teamB_wins = wins_and_points[teamB][0]\n",
    "    current_teamB_pts = wins_and_points[teamB][1] + ptsB\n",
    "    \n",
    "    #part two:\n",
    "    \n",
    "    if ptsA > ptsB:\n",
    "        wins_and_points[teamA] = [current_teamA_wins + 1, current_teamA_pts]\n",
    "        wins_and_points[teamB] = [current_teamB_wins, current_teamB_pts]\n",
    "    elif ptsB > ptsA:\n",
    "        wins_and_points[teamB] = [current_teamB_wins + 1, current_teamB_pts]\n",
    "        wins_and_points[teamA] = [current_teamA_wins, current_teamA_pts]\n",
    "    else:\n",
    "        wins_and_points[teamA] = [current_teamA_wins, current_teamA_pts]\n",
    "        wins_and_points[teamB] = [current_teamB_wins, current_teamB_pts]\n",
    "wins_and_points\n",
    "    "
   ]
  },
  {
   "cell_type": "markdown",
   "metadata": {
    "id": "YPLoRCsSNeGp"
   },
   "source": [
    "In this part, I found the amount of wins and points for each team using a dictionary with lists as values to keep track of the teams' stats throughout the matches. To start, I created an empty divctionary that would be used to store the teams with their respective wins and points. I then iterated through all the matches and seperated organized the data for each match by creating variables for the field, the time, the first team playing, the first team's points, the second team playing, and the second team's points. I checked whether or not either team was in the dictonary yet, if not, I added that team with 0 wins and 0 points. After that, I stored each team's current wins and points (plus the points they recieved from the current match).\n",
    "\n",
    "Once I had all of the data stored in variables, I checked which team won the match by comparing the points they each earned in that match. If a team won, I stored that team back into the dictionary with one additional win. I checked if either team won, or if there was a tie and in each, I added a win to the dictionary accordingly (for a tie everyone loses). From there, by printing out the dictionary where we can see that Westbrough HS had 4 wins and 278  points, Hudson HS had 6 wins and 302 points, Malborough HS had 8 wins and 300 points, and Framingham HS had 6 wins and 327 points"
   ]
  },
  {
   "cell_type": "code",
   "execution_count": 10,
   "metadata": {
    "id": "joGY1Q5nNeU2"
   },
   "outputs": [
    {
     "name": "stdout",
     "output_type": "stream",
     "text": [
      "[('MRB-88', [8, 300]), ('FRM-101', [6, 327]), ('HHS-1729', [6, 302]), ('WBY-77', [4, 278])]\n"
     ]
    }
   ],
   "source": [
    "def sorting_help(team):\n",
    "    team_name = team[0]\n",
    "    team_wins = team[1][0]\n",
    "    team_score = team[1][1]\n",
    "    return (team_wins,team_score,team_name)\n",
    "    \n",
    "print(sorted(wins_and_points.items(), key=sorting_help, reverse=True))\n"
   ]
  },
  {
   "cell_type": "markdown",
   "metadata": {
    "id": "VtffxJdYNelP"
   },
   "source": [
    "Once I had a finished dictionary, it was fairly easy to create standings ordered by wins with points and alphabetical names as the tiebreaker. I made a function that returned the data from the dictionary's values in the order it should be sorted by: wins, points, name. I then just had to print the items of the wins and points dictionary while using the sorted function to sort it using our key. I also reversed it to put it into descending order so that first place prints out first."
   ]
  },
  {
   "cell_type": "markdown",
   "metadata": {
    "id": "CVvBLr2QOEG8"
   },
   "source": [
    "#Part E — Team activity summary (grouping)\n",
    "\n",
    "Produce, for each team, a summary dict:\n",
    "\n",
    "```\n",
    "{\n",
    "  \"HHS-1729\": {\n",
    "    \"school\": \"Hudson HS\",\n",
    "    \"mentors\": [\"Ada\",\"Lin\"],\n",
    "    \"matches\": 3,\n",
    "    \"total_points\": 57,\n",
    "    \"workshops\": [\"PID\", \"VIS\"]\n",
    "  },\n",
    "  ...\n",
    "}\n",
    "```\n"
   ]
  },
  {
   "cell_type": "code",
   "execution_count": 11,
   "metadata": {
    "id": "LBPwycB5OLGX"
   },
   "outputs": [],
   "source": [
    "summary_dict = {}\n",
    "for team_num, team_info in teams_dict.items():\n",
    "    number_of_matches = 0\n",
    "    school, mentor_one, mentor_two, mentor_one_email, mentor_two_email = team_info.values()\n",
    "    workshops = set({})\n",
    "    points = wins_and_points[team_num][1]\n",
    "    for match in randomized_matches:\n",
    "        number_of_matches += match.count(team_num)\n",
    "    for workshop in raw_workshops:\n",
    "        if mentor_one_email in workshop or mentor_two_email in workshop:\n",
    "            workshops.add(workshop[1])\n",
    "    summary_dict[team_num] = {\"school\": school, \"mentors\": [mentor_one, mentor_two], \"matches\": number_of_matches, \"win_rate\": f\"{100* wins_and_points[team_num][0]/number_of_matches:.2f}%\", \"total_points\": points, \"workshops\": workshops}"
   ]
  },
  {
   "cell_type": "code",
   "execution_count": 12,
   "metadata": {
    "id": "OMKQYIfFOZAl"
   },
   "outputs": [
    {
     "name": "stdout",
     "output_type": "stream",
     "text": [
      "HHS-1729: {\n",
      "\tschool: Hudson HS\n",
      "\tmentors: ['Ada', 'Lin']\n",
      "\tmatches: 13\n",
      "\twin_rate: 46.15%\n",
      "\ttotal_points: 302\n",
      "\tworkshops: {'PID', 'VIS'}\n",
      "FRM-101: {\n",
      "\tschool: Framingham HS\n",
      "\tmentors: ['Sam', 'Tess']\n",
      "\tmatches: 13\n",
      "\twin_rate: 46.15%\n",
      "\ttotal_points: 327\n",
      "\tworkshops: {'PID'}\n",
      "MRB-88: {\n",
      "\tschool: Marlborough HS\n",
      "\tmentors: ['Kai', 'Ada']\n",
      "\tmatches: 12\n",
      "\twin_rate: 66.67%\n",
      "\ttotal_points: 300\n",
      "\tworkshops: {'PID', 'VIS'}\n",
      "WBY-77: {\n",
      "\tschool: Westborough HS\n",
      "\tmentors: ['Ira', 'Mo']\n",
      "\tmatches: 12\n",
      "\twin_rate: 33.33%\n",
      "\ttotal_points: 278\n",
      "\tworkshops: {'VIS'}\n"
     ]
    }
   ],
   "source": [
    "for team, information in summary_dict.items():\n",
    "    print(f\"{team}: {{\")\n",
    "    for key, item in information.items():\n",
    "        print(f\"\\t{key}: {item}\")\n",
    "\n"
   ]
  },
  {
   "cell_type": "markdown",
   "metadata": {},
   "source": [
    "To finish by creating a summary dictionary, I started by iterating through the teams dictionary I made in part B and storing all the variables within it. I then made a new set that would store workshops (I chose a set because I don't want any repeats) and I iterated through the raw workshop list, adding any workshops that had either of the mentors' emails associated witht them to the set. I also iterated through the randomized matches list and counted the matches eacht team played by keeping track of the number of appearences by each team id using the .count() function. I also calculated the win rate by dividing the number of wins by the number of matches played and multiplying that answer by 100 to get a percent. I put all of that info into a dictionary with the team id as the key, and then printed it out by iterating through it and indenting the information of each team."
   ]
  }
 ],
 "metadata": {
  "colab": {
   "provenance": []
  },
  "kernelspec": {
   "display_name": "Python [conda env:base] *",
   "language": "python",
   "name": "conda-base-py"
  },
  "language_info": {
   "codemirror_mode": {
    "name": "ipython",
    "version": 3
   },
   "file_extension": ".py",
   "mimetype": "text/x-python",
   "name": "python",
   "nbconvert_exporter": "python",
   "pygments_lexer": "ipython3",
   "version": "3.13.5"
  }
 },
 "nbformat": 4,
 "nbformat_minor": 4
}
